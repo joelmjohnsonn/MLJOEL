{
  "nbformat": 4,
  "nbformat_minor": 0,
  "metadata": {
    "colab": {
      "provenance": [],
      "authorship_tag": "ABX9TyOInu7NCwJM2zoEHanX3Hal",
      "include_colab_link": true
    },
    "kernelspec": {
      "name": "python3",
      "display_name": "Python 3"
    },
    "language_info": {
      "name": "python"
    }
  },
  "cells": [
    {
      "cell_type": "markdown",
      "metadata": {
        "id": "view-in-github",
        "colab_type": "text"
      },
      "source": [
        "<a href=\"https://colab.research.google.com/github/lohith-kandibanda/Machine_learning_subj/blob/main/lab-session-1.ipynb\" target=\"_parent\"><img src=\"https://colab.research.google.com/assets/colab-badge.svg\" alt=\"Open In Colab\"/></a>"
      ]
    },
    {
      "cell_type": "code",
      "execution_count": null,
      "metadata": {
        "id": "Hsbuafl7qcYF",
        "colab": {
          "base_uri": "https://localhost:8080/"
        },
        "outputId": "3526e6b0-ef82-4dd8-ce6f-f6fe6c68a43d"
      },
      "outputs": [
        {
          "output_type": "stream",
          "name": "stdout",
          "text": [
            "enter a stringAbcdefGHIJKlmnopQrstuvwxyz\n",
            "5 21\n"
          ]
        }
      ],
      "source": [
        "def count_vowels_consonants(Inp_Str):\n",
        "    vowel_count = 0\n",
        "    consonant_count = 0\n",
        "    str = Inp_Str.lower()\n",
        "    for char in str:\n",
        "        if char in {'a', 'e', 'i', 'o', 'u'}:\n",
        "            vowel_count +=1\n",
        "        elif char in {'b', 'c', 'd', 'f', 'g', 'h' , 'j' , 'k' , 'l', 'm', 'n', 'p', 'q', 'r', 's', 't' , 'v', 'w' , 'x' , 'y' , 'z'}:\n",
        "            consonant_count +=1\n",
        "    return (vowel_count, consonant_count)\n",
        "\n",
        "str = input(\"enter a string\")\n",
        "v , c = count_vowels_consonants(str)\n",
        "print(v,c)\n",
        "\n"
      ]
    },
    {
      "cell_type": "code",
      "source": [
        "import numpy as np\n",
        "def Product_AB(A, B):\n",
        "   return np.dot(A,B)\n",
        "\n",
        "print(\"enter the size of row of matrice 1\")\n",
        "r1 = int(input())\n",
        "print(\"enter the size of column of matrice 1\")\n",
        "c1 = int(input())\n",
        "print(\"enter the size of row of matrice 2\")\n",
        "r2 = int(input())\n",
        "print(\"enter the size of column of matrice 2\")\n",
        "c2 = int(input())\n",
        "matrice1 = []\n",
        "matrice2 = []\n",
        "print('enter')\n",
        "for j in range(r1):\n",
        "  a = []\n",
        "  for i in range(c1):\n",
        "    a.append(int(input()))\n",
        "\n",
        "  matrice1.append(a)\n",
        "print('enter')\n",
        "for j in range(r2):\n",
        "  a = []\n",
        "  for i in range(c2):\n",
        "    a.append(int(input()))\n",
        "  matrice2.append(a)\n",
        "if(c1==r2):\n",
        "  print(Product_AB(matrice1, matrice2))\n",
        "else:\n",
        "  print(\"error\")\n",
        "\n"
      ],
      "metadata": {
        "colab": {
          "base_uri": "https://localhost:8080/"
        },
        "id": "I0PxWD1hR0t5",
        "outputId": "a3420829-e3d0-4801-af79-02bbc393f27f"
      },
      "execution_count": null,
      "outputs": [
        {
          "output_type": "stream",
          "name": "stdout",
          "text": [
            "enter the size of row of matrice 1\n",
            "3\n",
            "enter the size of column of matrice 1\n",
            "3\n",
            "enter the size of row of matrice 2\n",
            "3\n",
            "enter the size of column of matrice 2\n",
            "3\n",
            "enter\n",
            "1\n",
            "2\n",
            "3\n",
            "1\n",
            "2\n",
            "3\n",
            "1\n",
            "2\n",
            "3\n",
            "enter\n",
            "1\n",
            "2\n",
            "3\n",
            "1\n",
            "2\n",
            "3\n",
            "1\n",
            "2\n",
            "3\n",
            "[[ 6 12 18]\n",
            " [ 6 12 18]\n",
            " [ 6 12 18]]\n"
          ]
        }
      ]
    },
    {
      "cell_type": "code",
      "source": [
        "def common_elements(lst1, lst2):\n",
        "  count = 0\n",
        "  for i in lst1:\n",
        "    if i in lst2:\n",
        "      count += 1\n",
        "  return count\n",
        "\n",
        "print(\"enter the len of lsts\")\n",
        "n = int(input())\n",
        "lst1 = []\n",
        "lst2 = []\n",
        "print(\"enter the elements of list1\")\n",
        "for i in range(n):\n",
        "  a = int(input(\"enter\"))\n",
        "  lst1.append(a)\n",
        "print(\"enter the elements of list2\")\n",
        "for i in range(n):\n",
        "  b = int(input(\"enter\"))\n",
        "  lst2.append(b)\n",
        "c = common_elements(lst1,lst2)\n",
        "print(\"common elements in lists are \",c)\n"
      ],
      "metadata": {
        "colab": {
          "base_uri": "https://localhost:8080/"
        },
        "id": "tgs-EHktafQU",
        "outputId": "f4167c44-a1d9-421e-9bba-230eed76cea2"
      },
      "execution_count": null,
      "outputs": [
        {
          "output_type": "stream",
          "name": "stdout",
          "text": [
            "enter the len of lsts\n",
            "4\n",
            "enter the elements of list1\n",
            "enter1\n",
            "enter2\n",
            "enter3\n",
            "enter4\n",
            "enter the elements of list2\n",
            "enter1\n",
            "enter2\n",
            "enter3\n",
            "enter4\n",
            "common elements in lists are  4\n"
          ]
        }
      ]
    },
    {
      "cell_type": "code",
      "source": [
        "import numpy as np\n",
        "def transpose(A):\n",
        "\n",
        "  np_matrix = np.array(A)\n",
        "  transposed = np_matrix.T\n",
        "  return transposed\n",
        "\n",
        "\n",
        "print(\"enter the size of row of matrice 1\")\n",
        "r1 = int(input())\n",
        "print(\"enter the size of column of matrice 1\")\n",
        "c1 = int(input())\n",
        "matrice1 = []\n",
        "print('enter')\n",
        "for j in range(r1):\n",
        "  a = []\n",
        "  for i in range(c1):\n",
        "    a.append(int(input()))\n",
        "\n",
        "  matrice1.append(a)\n",
        "B = transpose(matrice1)\n",
        "print(B)"
      ],
      "metadata": {
        "colab": {
          "base_uri": "https://localhost:8080/"
        },
        "id": "IEaVs2RchzN3",
        "outputId": "4cd33dab-4f86-4c7d-fc97-e9085b9835d9"
      },
      "execution_count": null,
      "outputs": [
        {
          "output_type": "stream",
          "name": "stdout",
          "text": [
            "enter the size of row of matrice 1\n",
            "3\n",
            "enter the size of column of matrice 1\n",
            "3\n",
            "enter\n",
            "1\n",
            "2\n",
            "3\n",
            "2\n",
            "4\n",
            "5\n",
            "7\n",
            "5\n",
            "2\n",
            "[[1 2 7]\n",
            " [2 4 5]\n",
            " [3 5 2]]\n"
          ]
        }
      ]
    }
  ]
}